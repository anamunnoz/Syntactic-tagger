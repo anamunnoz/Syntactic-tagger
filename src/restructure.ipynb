{
 "cells": [
  {
   "cell_type": "code",
   "execution_count": 1,
   "metadata": {},
   "outputs": [],
   "source": [
    "import os\n",
    "import json"
   ]
  },
  {
   "cell_type": "code",
   "execution_count": null,
   "metadata": {},
   "outputs": [],
   "source": [
    "def split_sentences_by_line_breaks(json_dir):\n",
    "    print(f\"\\n🔍 Searching for .json files in: {json_dir}\")\n",
    "\n",
    "    for filename in os.listdir(json_dir):\n",
    "        if filename.endswith(\".json\"):\n",
    "            json_path = os.path.join(json_dir, filename)\n",
    "            print(f\"➤ Processing: {json_path}\")\n",
    "\n",
    "            try:\n",
    "                with open(json_path, 'r', encoding='utf-8') as f:\n",
    "                    sentences = json.load(f)\n",
    "\n",
    "                cleaned_sentences = []\n",
    "                for sentence in sentences:\n",
    "                    parts = [part.strip() for part in sentence.replace('\\r\\n', '\\n').split('\\n') if part.strip()]\n",
    "                    cleaned_sentences.extend(parts)\n",
    "\n",
    "                with open(json_path, 'w', encoding='utf-8') as f:\n",
    "                    json.dump(cleaned_sentences, f, ensure_ascii=False, indent=2)\n",
    "\n",
    "                print(f\"    ✔ Saved {len(cleaned_sentences)} cleaned sentences\")\n",
    "\n",
    "            except Exception as e:\n",
    "                print(f\"    ✖ Error processing {json_path}: {e}\")\n",
    "\n",
    "json_folder = 'generated-jsons'\n",
    "split_sentences_by_line_breaks(json_folder)\n"
   ]
  }
 ],
 "metadata": {
  "kernelspec": {
   "display_name": "Python 3",
   "language": "python",
   "name": "python3"
  },
  "language_info": {
   "codemirror_mode": {
    "name": "ipython",
    "version": 3
   },
   "file_extension": ".py",
   "mimetype": "text/x-python",
   "name": "python",
   "nbconvert_exporter": "python",
   "pygments_lexer": "ipython3",
   "version": "3.12.10"
  }
 },
 "nbformat": 4,
 "nbformat_minor": 2
}
